{
 "cells": [
  {
   "cell_type": "markdown",
   "metadata": {},
   "source": [
    "# Sum of Digits Example:"
   ]
  },
  {
   "cell_type": "code",
   "execution_count": 1,
   "metadata": {},
   "outputs": [
    {
     "name": "stdout",
     "output_type": "stream",
     "text": [
      "Enter a number: 12345\n",
      "6\n"
     ]
    }
   ],
   "source": [
    "def Sum_of_digits(i): \n",
    "    result = 0\n",
    "      \n",
    "    while(i > 0 or result > 9): \n",
    "      \n",
    "        if(i == 0): \n",
    "            i = result\n",
    "            result = 0\n",
    "          \n",
    "        result += i % 10\n",
    "        i //= 10\n",
    "      \n",
    "    return result\n",
    "\n",
    "i = int(input(\"Enter a number: \"))\n",
    "print (Sum_of_digits(i))"
   ]
  },
  {
   "cell_type": "code",
   "execution_count": null,
   "metadata": {},
   "outputs": [],
   "source": []
  },
  {
   "cell_type": "code",
   "execution_count": null,
   "metadata": {},
   "outputs": [],
   "source": []
  },
  {
   "cell_type": "markdown",
   "metadata": {},
   "source": [
    "# Map(), Filter(), Lambda() and Reduce() examples:"
   ]
  },
  {
   "cell_type": "code",
   "execution_count": 2,
   "metadata": {},
   "outputs": [
    {
     "name": "stdout",
     "output_type": "stream",
     "text": [
      "<map object at 0x7f36cbfe14e0>\n",
      "[1, 4, 9, 16, 25]\n"
     ]
    }
   ],
   "source": [
    "#Map functions:\n",
    "\n",
    "def sqr(a):\n",
    "    return a*a\n",
    "x=map(sqr, [1,2,3,4,5])\n",
    "print(x)\n",
    "print(list(x))"
   ]
  },
  {
   "cell_type": "code",
   "execution_count": 3,
   "metadata": {},
   "outputs": [
    {
     "name": "stdout",
     "output_type": "stream",
     "text": [
      "<map object at 0x7f36cbff77f0>\n",
      "(1, 4, 9, 16, 25)\n"
     ]
    }
   ],
   "source": [
    "def sqr(a):\n",
    "    return a*a\n",
    "x=map(sqr, [1,2,3,4,5])\n",
    "print(x)\n",
    "print(tuple(x))"
   ]
  },
  {
   "cell_type": "code",
   "execution_count": 4,
   "metadata": {},
   "outputs": [
    {
     "name": "stdout",
     "output_type": "stream",
     "text": [
      "<map object at 0x7f36cbff7c18>\n",
      "{16, 1, 4, 9}\n"
     ]
    }
   ],
   "source": [
    "def sqr(a):\n",
    "    return a*a\n",
    "x=map(sqr, [1,2,3,4])\n",
    "print(x)\n",
    "print(set(x))"
   ]
  },
  {
   "cell_type": "code",
   "execution_count": 5,
   "metadata": {},
   "outputs": [
    {
     "name": "stdout",
     "output_type": "stream",
     "text": [
      "<map object at 0x7f36cbffa048>\n",
      "[-1, -1, -1, -1, -1]\n"
     ]
    }
   ],
   "source": [
    "def sqr(a,b):\n",
    "    return a-b\n",
    "x=map(sqr, [1,2,3,4,5],[2,3,4,5,6])\n",
    "print(x)\n",
    "print(list(x))"
   ]
  },
  {
   "cell_type": "code",
   "execution_count": null,
   "metadata": {},
   "outputs": [],
   "source": []
  },
  {
   "cell_type": "code",
   "execution_count": 6,
   "metadata": {},
   "outputs": [
    {
     "data": {
      "text/plain": [
       "9"
      ]
     },
     "execution_count": 6,
     "metadata": {},
     "output_type": "execute_result"
    }
   ],
   "source": [
    "#lambda functions:\n",
    "\n",
    "x=lambda a: a*a\n",
    "x(3)"
   ]
  },
  {
   "cell_type": "code",
   "execution_count": 7,
   "metadata": {},
   "outputs": [
    {
     "name": "stdout",
     "output_type": "stream",
     "text": [
      "<function abc.<locals>.<lambda> at 0x7f36e010b840>\n",
      "9\n"
     ]
    }
   ],
   "source": [
    "def abc(x):\n",
    "    return lambda y:x+y\n",
    "\n",
    "t=abc(4)\n",
    "print(t)\n",
    "print(t(5))"
   ]
  },
  {
   "cell_type": "code",
   "execution_count": 8,
   "metadata": {},
   "outputs": [
    {
     "data": {
      "text/plain": [
       "11"
      ]
     },
     "execution_count": 8,
     "metadata": {},
     "output_type": "execute_result"
    }
   ],
   "source": [
    "z=lambda x,y:5*x+3*y\n",
    "z(1,2)"
   ]
  },
  {
   "cell_type": "code",
   "execution_count": 9,
   "metadata": {},
   "outputs": [
    {
     "data": {
      "text/plain": [
       "9"
      ]
     },
     "execution_count": 9,
     "metadata": {},
     "output_type": "execute_result"
    }
   ],
   "source": [
    "z=lambda x,y:(x+y)**2\n",
    "z(1,2)"
   ]
  },
  {
   "cell_type": "code",
   "execution_count": 12,
   "metadata": {},
   "outputs": [
    {
     "data": {
      "text/plain": [
       "[4, 5, 6, 7]"
      ]
     },
     "execution_count": 12,
     "metadata": {},
     "output_type": "execute_result"
    }
   ],
   "source": [
    "l=[1,2,3,4]\n",
    "z=map(lambda x:x+3,l)\n",
    "#list(map(lambda x:x+3,l))\n",
    "list(z)"
   ]
  },
  {
   "cell_type": "code",
   "execution_count": null,
   "metadata": {},
   "outputs": [],
   "source": []
  },
  {
   "cell_type": "code",
   "execution_count": 13,
   "metadata": {},
   "outputs": [
    {
     "name": "stdout",
     "output_type": "stream",
     "text": [
      "<filter object at 0x7f36cbf2c898>\n",
      "<class 'filter'>\n",
      "[3, 4]\n"
     ]
    }
   ],
   "source": [
    "#filter functions:\n",
    "\n",
    "def sqr(a):\n",
    "    if a>=3:\n",
    "        return a\n",
    "x=filter(sqr,[1,2,3,4])\n",
    "print(x)\n",
    "print(type(x))\n",
    "print(list(x))"
   ]
  },
  {
   "cell_type": "code",
   "execution_count": 15,
   "metadata": {},
   "outputs": [
    {
     "name": "stdout",
     "output_type": "stream",
     "text": [
      "[3, 4]\n"
     ]
    }
   ],
   "source": [
    "l=[1,2,3,4]\n",
    "sqr=filter(lambda x: x>=3, l)\n",
    "print(list(sqr))"
   ]
  },
  {
   "cell_type": "code",
   "execution_count": 19,
   "metadata": {},
   "outputs": [
    {
     "name": "stdout",
     "output_type": "stream",
     "text": [
      "(2, 3, 4)\n"
     ]
    }
   ],
   "source": [
    "l=[1,2,3,4]\n",
    "sqr=filter(lambda x: x>1, l)\n",
    "print(tuple(sqr))"
   ]
  },
  {
   "cell_type": "code",
   "execution_count": null,
   "metadata": {},
   "outputs": [],
   "source": []
  },
  {
   "cell_type": "code",
   "execution_count": 23,
   "metadata": {},
   "outputs": [
    {
     "name": "stdout",
     "output_type": "stream",
     "text": [
      "10\n"
     ]
    }
   ],
   "source": [
    "#reduce() functions:\n",
    "\n",
    "from functools import reduce\n",
    "def sqr(a,b):\n",
    "    return a+b\n",
    "x=reduce(sqr,[1,2,3,4])\n",
    "print(x)"
   ]
  },
  {
   "cell_type": "raw",
   "metadata": {},
   "source": []
  },
  {
   "cell_type": "code",
   "execution_count": 24,
   "metadata": {},
   "outputs": [
    {
     "data": {
      "text/plain": [
       "24"
      ]
     },
     "execution_count": 24,
     "metadata": {},
     "output_type": "execute_result"
    }
   ],
   "source": [
    "reduce(lambda a,b: a*b, [1,2,3,4])"
   ]
  },
  {
   "cell_type": "code",
   "execution_count": 25,
   "metadata": {},
   "outputs": [
    {
     "data": {
      "text/plain": [
       "10"
      ]
     },
     "execution_count": 25,
     "metadata": {},
     "output_type": "execute_result"
    }
   ],
   "source": [
    "reduce(lambda a,b: a+b, [1,2,3,4])"
   ]
  },
  {
   "cell_type": "code",
   "execution_count": 26,
   "metadata": {},
   "outputs": [
    {
     "name": "stdout",
     "output_type": "stream",
     "text": [
      "<map object at 0x7f36cbfde470>\n",
      "[6, 8]\n"
     ]
    }
   ],
   "source": [
    "x=map(lambda x:x+x, filter(lambda x: x>=3, [1,2,3,4]))\n",
    "print(x)\n",
    "print(list(x))"
   ]
  },
  {
   "cell_type": "code",
   "execution_count": 28,
   "metadata": {},
   "outputs": [
    {
     "name": "stdout",
     "output_type": "stream",
     "text": [
      "<map object at 0x7f36cbf1e7f0>\n",
      "(2, 4, 6, 8)\n"
     ]
    }
   ],
   "source": [
    "x=map(lambda x:x+x, filter(lambda x: x>=1, [1,2,3,4]))\n",
    "print(x)\n",
    "print(tuple(x))"
   ]
  },
  {
   "cell_type": "code",
   "execution_count": 29,
   "metadata": {},
   "outputs": [
    {
     "name": "stdout",
     "output_type": "stream",
     "text": [
      "<filter object at 0x7f36cbd455f8>\n",
      "[4, 5, 6, 7]\n"
     ]
    }
   ],
   "source": [
    "x=filter(lambda x: x>=3, map(lambda x: x+3, [1,2,3,4]))\n",
    "print(x)\n",
    "print(list(x))"
   ]
  },
  {
   "cell_type": "code",
   "execution_count": 30,
   "metadata": {},
   "outputs": [
    {
     "name": "stdout",
     "output_type": "stream",
     "text": [
      "<filter object at 0x7f36cbd452e8>\n",
      "[7]\n"
     ]
    }
   ],
   "source": [
    "x=filter(lambda x: x>6, map(lambda x: x+3, [1,2,3,4]))\n",
    "print(x)\n",
    "print(list(x))"
   ]
  },
  {
   "cell_type": "code",
   "execution_count": 31,
   "metadata": {},
   "outputs": [
    {
     "name": "stdout",
     "output_type": "stream",
     "text": [
      "14\n"
     ]
    }
   ],
   "source": [
    "x=reduce(lambda x,y:x+y, map(lambda x:x+x, filter(lambda x:x>=3, (1,2,3,4))))\n",
    "print(x)"
   ]
  },
  {
   "cell_type": "code",
   "execution_count": null,
   "metadata": {},
   "outputs": [],
   "source": []
  }
 ],
 "metadata": {
  "kernelspec": {
   "display_name": "Python 3",
   "language": "python",
   "name": "python3"
  },
  "language_info": {
   "codemirror_mode": {
    "name": "ipython",
    "version": 3
   },
   "file_extension": ".py",
   "mimetype": "text/x-python",
   "name": "python",
   "nbconvert_exporter": "python",
   "pygments_lexer": "ipython3",
   "version": "3.7.3"
  }
 },
 "nbformat": 4,
 "nbformat_minor": 2
}
